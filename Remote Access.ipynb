{
 "cells": [
  {
   "cell_type": "markdown",
   "metadata": {},
   "source": [
    "# MAAP Tutorial"
   ]
  },
  {
   "cell_type": "markdown",
   "metadata": {},
   "source": [
    "### Remote ACCESS\n",
    "**1. SSH Access**<br>\n",
    "**2. S3 Access**<br>"
   ]
  },
  {
   "cell_type": "markdown",
   "metadata": {},
   "source": [
    "## SSH Access"
   ]
  },
  {
   "cell_type": "markdown",
   "metadata": {},
   "source": [
    "Select the Command Palette side panel and search for `ssh`.  Click on `Display SSH Info`.<br>\n",
    "<div>\n",
    "<img src=\"./images/ssh_info.png\" width=\"200\"/><br>\n",
    "</div><br>\n",
    "If your public key is in your CAS profile, You will be able to copy the provided line and enter your ADE from a separate shell window.\n",
    "<div>\n",
    "<img src=\"./images/ssh_line.png\" width=\"250\"/><br>\n",
    "</div>"
   ]
  },
  {
   "cell_type": "markdown",
   "metadata": {},
   "source": [
    "<hr>"
   ]
  },
  {
   "cell_type": "markdown",
   "metadata": {},
   "source": [
    "## S3 Access"
   ]
  },
  {
   "cell_type": "markdown",
   "metadata": {},
   "source": [
    "Every user has their own s3-backed user folder mounted as their username in the home directory.<br>\n",
    "My username is `eyam`, so my s3-backed folder `eyam` in my home directory.  Every user who opens the workspace will have their own folder mounted here.  \n",
    "\n",
    "This can be used for **persistent storage** across any workspace you have access to.\n",
    "<div>\n",
    "<img src=\"./images/s3_folder.png\" width=\"250\"/><br>\n",
    "</div>"
   ]
  },
  {
   "cell_type": "markdown",
   "metadata": {},
   "source": [
    "### Temporary S3 links\n",
    "Users can request a temporary access link to their s3-backed _files_ (not available for folders).<br>\n",
    "To do this, right-click on the file you want, and select `Get Presigned S3 Url`.<br>\n",
    "<div>\n",
    "<img src=\"./images/s3_link_opt.png\" width=\"250\"/><br><br>\n",
    "<img src=\"./images/s3_link.png\" width=\"550\"/><br>\n",
    "</div>\n",
    "The generated link will expire after 12 hours.\n",
    "\n",
    "If you selected a file **not** in an s3-backed folder, you will get a 404 error."
   ]
  },
  {
   "cell_type": "code",
   "execution_count": null,
   "metadata": {},
   "outputs": [],
   "source": []
  }
 ],
 "metadata": {
  "kernelspec": {
   "display_name": "Python 3",
   "language": "python",
   "name": "python3"
  },
  "language_info": {
   "codemirror_mode": {
    "name": "ipython",
    "version": 3
   },
   "file_extension": ".py",
   "mimetype": "text/x-python",
   "name": "python",
   "nbconvert_exporter": "python",
   "pygments_lexer": "ipython3",
   "version": "3.7.4"
  }
 },
 "nbformat": 4,
 "nbformat_minor": 4
}
