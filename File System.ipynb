{
 "cells": [
  {
   "cell_type": "markdown",
   "metadata": {},
   "source": [
    "# MAAP ADE File System"
   ]
  },
  {
   "cell_type": "markdown",
   "metadata": {},
   "source": [
    "## General Information"
   ]
  },
  {
   "cell_type": "markdown",
   "metadata": {},
   "source": [
    "Each MAAP ADE workspace is a self-contained container. As a user, you control the entire file system in the workspace and can use it as if it were your own private computer. No one else has access to the files in your workspace unless you 1) share the workspace 2) share links to files within your workspace or 3) place your files in specially shared directories."
   ]
  },
  {
   "cell_type": "markdown",
   "metadata": {},
   "source": [
    "## Instance Storage, S3 Storage, and Capacity"
   ]
  },
  {
   "cell_type": "markdown",
   "metadata": {},
   "source": [
    "The ADE is backed by two types of storage mechanisms, **instance storage** and **S3 storage**.  \n",
    "\n",
    "**Instance storage**: Behaves very much like a local hard drive. The capacity is limited, but this limit is shared among all users on the physical machine hosting the workspace container. It is the most performance and responsive storage option. With the exception of 2 special directories, all workspace files and directories use this storage option.  \n",
    "\n",
    "**S3 storage**: This is a virtually limitless cloud storage option. This storage option is not as performant, but provides the most capacity. This storage option also provides the capability of sharing individual files with users outside of MAAP through the use of pre-signed S3 URLs. This storage type is used in special directories, described below."
   ]
  },
  {
   "cell_type": "markdown",
   "metadata": {},
   "source": [
    "### When to use S3 Storage"
   ]
  },
  {
   "cell_type": "markdown",
   "metadata": {},
   "source": [
    "For most purposes, use **instance storage** for your work in the ADE. This is the most performant and consistent file system option. However, there are times when its recommended that you use the S3 storage option.\n",
    "\n",
    "* You have a large amount of data that you want to retain in your workspace. This includes storing copies of large datasets.\n",
    "* Your data is mostly read-only with small amounts of atomic writes. Algorithm output data are typically written once to disk, so they would work well.\n",
    "* You want to share the data with users in other workspaces and/or share links to the files to people outside of MAAP\n",
    "* You want the data to persist across different workspaces. Instance storage is not guaranteed to persist.\n",
    "\n",
    "You **should not** use S3 storage when:\n",
    "\n",
    "* You need to perform frequent writes to files. This includes notebooks that are currently being developed. Storing git repositories that are actively being worked on may lead to git index corruption."
   ]
  },
  {
   "cell_type": "markdown",
   "metadata": {},
   "source": [
    "## File System Structure"
   ]
  },
  {
   "cell_type": "markdown",
   "metadata": {},
   "source": [
    "The **home** directory is identified as `/` in the Jupyter file browser. This corresponds to the `/projects` directory on the file system.\n",
    "\n",
    "<div>\n",
    "<img src=\"./images/home_directory.png\" width=\"720\" border=\"1\"/><br>\n",
    "</div>"
   ]
  },
  {
   "cell_type": "markdown",
   "metadata": {},
   "source": [
    "If you added a Git repository to be cloned when you start up the workspace, that directory will also be in your **home** directory."
   ]
  },
  {
   "cell_type": "markdown",
   "metadata": {},
   "source": [
    "The **S3 storage** backed directories are the directories that are named after **&lt;your username&gt;** and **maap-users**, which is the group that all MAAP ADE users belong in. In the example above, it is **hansolo** and **maap-users**. The **hansolo** file is read/write for the user. The files in **maap-users** are read-only. All files in **~/&lt;username&gt;** are available to everyone as read-only in **~/maap-user/&lt;username&gt;**."
   ]
  },
  {
   "cell_type": "markdown",
   "metadata": {},
   "source": [
    "## Sharing Files within the ADE"
   ]
  },
  {
   "cell_type": "markdown",
   "metadata": {},
   "source": [
    "There are several ways of sharing files with other users of MAAP. Within the ADE, there are 3 methods of allowing others access to your files."
   ]
  },
  {
   "cell_type": "markdown",
   "metadata": {},
   "source": [
    "### Share Files By Sharing Workspaces"
   ]
  },
  {
   "cell_type": "markdown",
   "metadata": {},
   "source": [
    "By allowing others direct access to your workspace, they can see and download your files. To enable workspace sharing, go to your workspaces:\n",
    "\n",
    "<div>\n",
    "<img src=\"./images/workspaces.png\" width=\"208\" border=\"1\"/><br>\n",
    "</div>\n",
    "\n",
    "Then configure the workspace:\n",
    "\n",
    "<div>\n",
    "<img src=\"./images/configure_workspace.png\" width=\"633\" border=\"1\"/><br>\n",
    "</div>\n",
    "\n",
    "Finally, select the users that you want to share your workspace with. Click the `Share` button and `Add Developer`. Once they are selected, they will be able to see your workspace in their MAAP ADE sidebar.\n",
    "\n",
    "<div>\n",
    "<img src=\"./images/share_workspace.png\" width=\"633\" border=\"1\"/><br>\n",
    "</div>"
   ]
  },
  {
   "cell_type": "markdown",
   "metadata": {},
   "source": [
    "### Share Files By Placing Files on S3 Storage"
   ]
  },
  {
   "cell_type": "markdown",
   "metadata": {},
   "source": [
    "Files placed in your `<username>` directory are accessible as read-only by others using the group folders. For example, if you put a file in `~/<username>/myfile.txt`, it will be available to others as read-only in `~/maap-users/<username>/myfile.txt`."
   ]
  },
  {
   "cell_type": "markdown",
   "metadata": {},
   "source": [
    "### Share Files By Creating Links to Files on S3 Storage"
   ]
  },
  {
   "cell_type": "markdown",
   "metadata": {},
   "source": [
    "Files in the folders using S3 Storage can also be shared via S3 Urls. These are time limited links that lets anyone with the URL to be able to download the file directly. To create this link, first make sure that the file is in a folder using S3 Storage, such as **~/&lt;username&gt;** or **~/maap-users**. Select the file and right-click and choose `Get Presigned S3 Url`.\n",
    "\n",
    "<div>\n",
    "<img src=\"./images/s3_link_opt.png\" width=\"250\" border=\"1\"/><br><br>\n",
    "<img src=\"./images/s3_link.png\" width=\"550\" border=\"1\"/><br>\n",
    "</div>\n",
    "The generated link will expire after 12 hours.\n",
    "\n",
    "If you selected a file **not** in an s3-backed folder, you will get a 404 error."
   ]
  },
  {
   "cell_type": "markdown",
   "metadata": {},
   "source": [
    "## Persistence"
   ]
  },
  {
   "cell_type": "markdown",
   "metadata": {},
   "source": [
    "Files in workspaces have different levels of persistence depending on what happens to the workspace. If:\n",
    "\n",
    "* **workspace remains running**:\n",
    "  * All files remain available.\n",
    "\n",
    "\n",
    "* **workspace is stopped and restarted**:\n",
    "  * Files on S3 Storage: Persistent\n",
    "  * Files on Instance Storage in the home directory (`~/projects`): Persistent\n",
    "  * Files on Instance Storage outside of the home directory (`~/projects`): Removed and replaced with fresh files from the workspace image. For example, any system libraries installed will be removed.\n",
    "\n",
    "\n",
    "* **workspace is deleted**:\n",
    "  * Files on S3 Storage: Persistent\n",
    "  * Files on Instance Storage: Removed"
   ]
  }
 ],
 "metadata": {
  "kernelspec": {
   "display_name": "Python 3",
   "language": "python",
   "name": "python3"
  },
  "language_info": {
   "codemirror_mode": {
    "name": "ipython",
    "version": 3
   },
   "file_extension": ".py",
   "mimetype": "text/x-python",
   "name": "python",
   "nbconvert_exporter": "python",
   "pygments_lexer": "ipython3",
   "version": "3.8.5"
  }
 },
 "nbformat": 4,
 "nbformat_minor": 4
}
