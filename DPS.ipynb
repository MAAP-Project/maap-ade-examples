{
 "cells": [
  {
   "cell_type": "markdown",
   "metadata": {},
   "source": [
    "# MAAP Tutorial"
   ]
  },
  {
   "cell_type": "markdown",
   "metadata": {},
   "source": [
    "### DPS\n",
    "**1. List Submitted Jobs**<br>\n",
    "**2. Execute an Algorithm/Submit a Job**<br>\n",
    "**3. Check Job Status**<br>\n",
    "**4. Check Job Result**<br>\n",
    "**5. Check Job Metrics**<br>\n",
    "**6. Delete Job**<br>\n",
    "**7. Dismiss Job**<br>"
   ]
  },
  {
   "cell_type": "markdown",
   "metadata": {},
   "source": [
    "<hr>\n",
    "<hr>"
   ]
  },
  {
   "cell_type": "markdown",
   "metadata": {},
   "source": [
    "## DPS\n",
    "<hr>"
   ]
  },
  {
   "cell_type": "markdown",
   "metadata": {},
   "source": [
    "### 1. List Submitted Jobs"
   ]
  },
  {
   "cell_type": "markdown",
   "metadata": {},
   "source": [
    "_If you have no submitted jobs, you will just see an empty list._\n",
    "\n",
    "#### Step 1:\n",
    "**Go to DPS/MAS Operations > Get DPS Job List**<br>\n",
    "![](./images/list_job_menu.png)\n",
    "\n",
    "#### Step 2:\n",
    "There will be a popup displaying a list of Job IDs.<br>\n",
    "![](./images/list_job_success.png)"
   ]
  },
  {
   "cell_type": "markdown",
   "metadata": {},
   "source": [
    "<hr>"
   ]
  },
  {
   "cell_type": "markdown",
   "metadata": {},
   "source": [
    "### 2. Execute Algorithm/Submit Job"
   ]
  },
  {
   "cell_type": "markdown",
   "metadata": {},
   "source": [
    "#### Step 1:\n",
    "**Go to DPS/MAS Operations > Execute DPS Job**<br>\n",
    "![](./images/execute_menu.png)<br>\n",
    "\n",
    "#### Step 2:\n",
    "**Select algorithm to run from popup dropdown menu**<br>\n",
    "See algorithm list in popup:<br>\n",
    "![](./images/execute_select.png)\n",
    "\n",
    "#### Step 3:\n",
    "**Populate algorithm inputs and press 'Submit'**<br>\n",
    "![](./images/execute_inputs.png)<br>\n",
    "\n",
    "A Job Id will be returned when the job is submitted.<br>\n",
    "![](./images/execute_success.png)"
   ]
  },
  {
   "cell_type": "markdown",
   "metadata": {},
   "source": [
    "<hr>"
   ]
  },
  {
   "cell_type": "markdown",
   "metadata": {},
   "source": [
    "### 3. Check Job Status"
   ]
  },
  {
   "cell_type": "markdown",
   "metadata": {},
   "source": [
    "#### Step 1:\n",
    "Make sure you know the Job ID of the job you want to query.\n",
    "\n",
    "#### Step 2:\n",
    "**Go to DPS/MAS Operations > Get DPS Job Status**<br>\n",
    "![](./images/status_menu.png)\n",
    "\n",
    "#### Step 3:\n",
    "**Fill in your Job ID when prompted in the popup and click 'OK'**<br>\n",
    "![](./images/status_jobid.png)\n",
    "\n",
    "If you submitted a valid Job ID, a popup will show the current status of your job.<br>\n",
    "![](./images/status_success.png)"
   ]
  },
  {
   "cell_type": "markdown",
   "metadata": {},
   "source": [
    "<hr>"
   ]
  },
  {
   "cell_type": "markdown",
   "metadata": {},
   "source": [
    "### 4. Check Job Result"
   ]
  },
  {
   "cell_type": "markdown",
   "metadata": {},
   "source": [
    "_Prerequisite: The job must have completed successfully in order to get the job's result.\n",
    "\n",
    "#### Step 1:\n",
    "Make sure you know the Job ID of the job you want to query.\n",
    "\n",
    "#### Step 2:\n",
    "**Go to DPS/MAS Operations > Get DPS Job Metrics**<br>\n",
    "![](./images/result_menu.png)\n",
    "\n",
    "#### Step 3:\n",
    "**Fill in your Job ID when prompted in the popup and click 'OK'**<br>\n",
    "![](./images/result_jobid.png)\n",
    "\n",
    "If you submitted the valid Job ID of a **completed** job, a popup will display metrics about the docker container used to run the job.<br>\n",
    "![](./images/result_success.png)"
   ]
  },
  {
   "cell_type": "markdown",
   "metadata": {},
   "source": [
    "<hr>"
   ]
  },
  {
   "cell_type": "markdown",
   "metadata": {},
   "source": [
    "### 5. Check Job Metrics"
   ]
  },
  {
   "cell_type": "markdown",
   "metadata": {},
   "source": [
    "_Prerequisite: The job must have completed successfully in order to get the job's result._\n",
    "\n",
    "#### Step 1:\n",
    "Make sure you know the Job ID of the job you want to query.\n",
    "\n",
    "#### Step 2:\n",
    "**Go to DPS/MAS Operations > Get DPS Job Metrics**<br>\n",
    "![](./images/metrics_menu.png)\n",
    "\n",
    "#### Step 3:\n",
    "**Fill in your Job ID when prompted in the popup and click 'OK'**<br>\n",
    "![](./images/metrics_jobid.png)\n",
    "\n",
    "If you submitted the valid Job ID of a **completed** job, a popup will display metrics about the docker container used to run the job.<br>\n",
    "![](./images/metrics_success.png)"
   ]
  },
  {
   "cell_type": "markdown",
   "metadata": {},
   "source": [
    "<hr>"
   ]
  },
  {
   "cell_type": "markdown",
   "metadata": {},
   "source": [
    "### 6. Delete Job"
   ]
  },
  {
   "cell_type": "markdown",
   "metadata": {},
   "source": [
    "_Prerequisite: The job must have finished, whether successfully or not. (see Dismiss Job for started jobs)_\n",
    "\n",
    "#### Step 1:\n",
    "Make sure you know the Job ID of the job you want to query.\n",
    "\n",
    "#### Step 2:\n",
    "**Go to DPS/MAS Operations > Delete DPS Job**<br>\n",
    "![](./images/delete_job_menu.png)\n",
    "\n",
    "#### Step 3:\n",
    "**Fill in your Job ID when prompted in the popup and click 'OK'**<br>\n",
    "![](./images/delete_job_jobid.png)\n",
    "\n",
    "If you submitted the valid Job ID of a **finished** job, a popup will confirm the request to delete the job.<br>\n",
    "Give some time for DPS to delete the job before checking again.<br>\n",
    "![](./images/delete_job_success.png)"
   ]
  },
  {
   "cell_type": "markdown",
   "metadata": {},
   "source": [
    "<hr>"
   ]
  },
  {
   "cell_type": "markdown",
   "metadata": {},
   "source": [
    "### 7. Dismiss Job"
   ]
  },
  {
   "cell_type": "markdown",
   "metadata": {},
   "source": [
    "_Prerequisite: The job must **not** have finished, that is queued or started. (see Delete Job for finished jobs)_\n",
    "\n",
    "#### Step 1:\n",
    "Make sure you know the Job ID of the job you want to query.\n",
    "\n",
    "#### Step 2:\n",
    "**Go to DPS/MAS Operations > Dismiss DPS Job**<br>\n",
    "![](./images/dismiss_job_menu.png)\n",
    "\n",
    "#### Step 3:\n",
    "**Fill in your Job ID when prompted in the popup and click 'OK'**<br>\n",
    "![](./images/dismiss_job_jobid.png)\n",
    "\n",
    "If you submitted the valid Job ID of an **unfinished** job, a popup will confirm the request to delete the job.<br>\n",
    "Give some time for DPS to stop and/or delete the job before checking again.<br>\n",
    "![](./images/dismiss_job_success.png)"
   ]
  },
  {
   "cell_type": "code",
   "execution_count": null,
   "metadata": {},
   "outputs": [],
   "source": []
  }
 ],
 "metadata": {
  "kernelspec": {
   "display_name": "Python 3",
   "language": "python",
   "name": "python3"
  },
  "language_info": {
   "codemirror_mode": {
    "name": "ipython",
    "version": 3
   },
   "file_extension": ".py",
   "mimetype": "text/x-python",
   "name": "python",
   "nbconvert_exporter": "python",
   "pygments_lexer": "ipython3",
   "version": "3.7.4"
  }
 },
 "nbformat": 4,
 "nbformat_minor": 4
}
