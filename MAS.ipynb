{
 "cells": [
  {
   "cell_type": "markdown",
   "metadata": {},
   "source": [
    "# MAAP Tutorial"
   ]
  },
  {
   "cell_type": "markdown",
   "metadata": {},
   "source": [
    "### MAS\n",
    "**1. Algorithm List**<br>\n",
    "**2. Algorithm Registration**<br>\n",
    "**3. Algorithm Deletion**<br>\n",
    "**4. Algorithm Description**"
   ]
  },
  {
   "cell_type": "markdown",
   "metadata": {},
   "source": [
    "<hr>\n",
    "<hr>"
   ]
  },
  {
   "cell_type": "markdown",
   "metadata": {},
   "source": [
    "## MAS\n",
    "<hr>"
   ]
  },
  {
   "cell_type": "markdown",
   "metadata": {},
   "source": [
    "### 1. Algorithm List"
   ]
  },
  {
   "cell_type": "markdown",
   "metadata": {},
   "source": [
    "**Go to DPS/MAS Operations > List Algorithms**<br>\n",
    "![](./images/list_algo_menu.png)<br>\n",
    "\n",
    "See algorithm list in popup:<br>\n",
    "![](./images/list_algo_success.png)"
   ]
  },
  {
   "cell_type": "markdown",
   "metadata": {},
   "source": [
    "<hr>"
   ]
  },
  {
   "cell_type": "markdown",
   "metadata": {},
   "source": [
    "### 2. Algorithm Registration"
   ]
  },
  {
   "cell_type": "markdown",
   "metadata": {},
   "source": [
    "**Prerequisites**:\n",
    "* The algorithm runs in your environment.\n",
    "* All your changes are committed and pushed to GitLab repository.\n",
    "* The outputs should be written to a folder named outputs.\n",
    "\n",
    "We will be using the `hello-world` repository at https://repo.nasa.maap.xyz/maap-devs/hello-world <br>"
   ]
  },
  {
   "cell_type": "markdown",
   "metadata": {},
   "source": [
    "#### Step 1:\n",
    "**Right-click on the script used to run your algorithm**<br>\n",
    "**Select `Register as MAS Algorithm`**<br>\n",
    "(pic of tooltip menu with option highlighted)<br>\n",
    "![](./images/register_tooltip.png)<br>\n",
    "If your changes have not been committed, there will be a popup asking you to commit your changes first."
   ]
  },
  {
   "cell_type": "markdown",
   "metadata": {},
   "source": [
    "#### Step 2:\n",
    "An `algorithm_config.yaml` will be automatically generated.<br>\n",
    "A pre-populated form will appear with algorithm metadata.<br>\n",
    "![](./images/register_yaml_autogen.png)"
   ]
  },
  {
   "cell_type": "markdown",
   "metadata": {},
   "source": [
    "#### Step 3:\n",
    "Click cancel and open `algorithm_config.yaml` to edit those fields.<br>\n",
    "**DON'T register the algorithm if any fields are missing or incorrect.**<br>\n",
    "![](./images/register_yaml_default.png)\n",
    "\n",
    "#### Step 4:\n",
    "When everything is  correct, **save your config changes.**<br>\n",
    "The `hello-world` algorithm has no fields, so we deleted everything under the inputs keyword.<br>\n",
    "![](./images/register_yaml_edited.png)\n",
    "\n",
    "#### Step 5:\n",
    "**Right-click the file again to register your algorithm.**<br>\n",
    "Notice the `inputs field` is now empty.  If everything looks correct, click 'OK'.<br>\n",
    "![](./images/register_yaml_form.png)\n",
    "\n",
    "_Note:_ \n",
    "_There will only be one `algorithm_config.yaml` file for any directory.  If you have multiple scripts to be registered as algorithms, consider separating them into different folders._\n"
   ]
  },
  {
   "cell_type": "markdown",
   "metadata": {},
   "source": [
    "<hr>"
   ]
  },
  {
   "cell_type": "markdown",
   "metadata": {},
   "source": [
    "### 3. Algorithm Deletion"
   ]
  },
  {
   "cell_type": "markdown",
   "metadata": {},
   "source": [
    "#### Step1:\n",
    "Make sure the algorithm you want to remove exists, which you can check by listing the available algorithms."
   ]
  },
  {
   "cell_type": "markdown",
   "metadata": {},
   "source": [
    "#### Step2:\n",
    "**Go to DPS/MAS Operations > Delete Algorithm**<br>\n",
    "![](./images/delete_algo_menu.png)"
   ]
  },
  {
   "cell_type": "markdown",
   "metadata": {},
   "source": [
    "#### Step3:\n",
    "**In the popup dropdown, select the algorithm you wish to delete and click 'OK'.**<br>\n",
    "![](./images/delete_algo_select.png)"
   ]
  },
  {
   "cell_type": "markdown",
   "metadata": {},
   "source": [
    "#### Step4:\n",
    "**You will get a popup saying your request to delete the algorithm has been received**.<br>\n",
    "![](./images/delete_algo_success.png)\n",
    "\n",
    "Give the system some time to deregister the algorithm before listing the algorithms again."
   ]
  },
  {
   "cell_type": "markdown",
   "metadata": {},
   "source": [
    "<hr>"
   ]
  },
  {
   "cell_type": "markdown",
   "metadata": {},
   "source": [
    "### 4. Algorithm Description"
   ]
  },
  {
   "cell_type": "markdown",
   "metadata": {},
   "source": [
    "#### Step1:\n",
    "Make sure the algorithm you want to describe exists, which you can check by listing the available algorithms."
   ]
  },
  {
   "cell_type": "markdown",
   "metadata": {},
   "source": [
    "#### Step2: \n",
    "**Go to DPS/MAS Operations > Describe Algorithm**<br>\n",
    "![](./images/describe_algo_menu.png)"
   ]
  },
  {
   "cell_type": "markdown",
   "metadata": {},
   "source": [
    "#### Step3:\n",
    "**In the popup dropdown, select the algorithm you wish to describe and click 'OK'.**<br>\n",
    "![](./images/describe_algo_select.png)"
   ]
  },
  {
   "cell_type": "markdown",
   "metadata": {},
   "source": [
    "#### Step4:\n",
    "**You will get a popup saying your request to delete the algorithm has been received**.<br>\n",
    "![](./images/describe_algo_success.png)|"
   ]
  },
  {
   "cell_type": "code",
   "execution_count": null,
   "metadata": {},
   "outputs": [],
   "source": []
  }
 ],
 "metadata": {
  "kernelspec": {
   "display_name": "Python 3",
   "language": "python",
   "name": "python3"
  },
  "language_info": {
   "codemirror_mode": {
    "name": "ipython",
    "version": 3
   },
   "file_extension": ".py",
   "mimetype": "text/x-python",
   "name": "python",
   "nbconvert_exporter": "python",
   "pygments_lexer": "ipython3",
   "version": "3.7.4"
  }
 },
 "nbformat": 4,
 "nbformat_minor": 4
}
