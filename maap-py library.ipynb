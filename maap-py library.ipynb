{
 "cells": [
  {
   "cell_type": "markdown",
   "metadata": {},
   "source": [
    "# MAAP Tutorial"
   ]
  },
  {
   "cell_type": "markdown",
   "metadata": {},
   "source": [
    "### `maap-py`\n",
    "Click on the `MAAP` button in the Jupyter Toolbar to import the `maap-py` library.<br>\n",
    "![](./images/insert_defaults_button.png)<br><br>\n",
    "We will only need the first 2 lines:"
   ]
  },
  {
   "cell_type": "code",
   "execution_count": 2,
   "metadata": {},
   "outputs": [],
   "source": [
    "from maap.maap import MAAP\n",
    "maap = MAAP()\n",
    "\n",
    "# json and xml libraries to parse some responses\n",
    "import json\n",
    "import xml.etree.ElementTree as ET"
   ]
  },
  {
   "cell_type": "markdown",
   "metadata": {},
   "source": [
    "## EarthData Search Utilities"
   ]
  },
  {
   "cell_type": "code",
   "execution_count": null,
   "metadata": {},
   "outputs": [],
   "source": [
    "# maap.searchGranule\n",
    "# maap.getCallFromEarthDataQuery\n",
    "# maap.getCallFromCmrUri\n",
    "# maap.searchCollection"
   ]
  },
  {
   "cell_type": "markdown",
   "metadata": {},
   "source": [
    "## MAS Utilities"
   ]
  },
  {
   "cell_type": "markdown",
   "metadata": {},
   "source": [
    "### List Algorithms"
   ]
  },
  {
   "cell_type": "code",
   "execution_count": 6,
   "metadata": {},
   "outputs": [
    {
     "name": "stdout",
     "output_type": "stream",
     "text": [
      "{'code': 200, 'message': 'success', 'algorithms': [{'type': 'hello-world-output_ubuntu', 'version': 'master'}, {'type': 'agb_jaxa_demo_apr20_ubuntu', 'version': 'jaxa_analysis'}, {'type': 'agb_jaxa_demo_metrics_ubuntu', 'version': 'jaxa_analysis'}]}\n"
     ]
    }
   ],
   "source": [
    "response = maap.listAlgorithms()\n",
    "json_response = json.loads(response.text)\n",
    "print(json_response)"
   ]
  },
  {
   "cell_type": "markdown",
   "metadata": {},
   "source": [
    "### Describe Algorithm"
   ]
  },
  {
   "cell_type": "code",
   "execution_count": 46,
   "metadata": {},
   "outputs": [],
   "source": [
    "# helper to parse out algorithm parameters for execute, describe\n",
    "def getParams(node):\n",
    "\ttag = node.tag[node.tag.index('}')+1:]\n",
    "\tif tag in ['Title','Identifier']:\n",
    "\t\treturn (tag,node.text)\n",
    "\telif tag == 'LiteralData':\n",
    "\t\treturn (node[1][1].tag.split('}')[-1],list(node[1][1].attrib.values())[0].split(':')[-1])\n",
    "\telse:\n",
    "\t\treturn (tag,[getParams(e) for e in node])"
   ]
  },
  {
   "cell_type": "code",
   "execution_count": 18,
   "metadata": {},
   "outputs": [
    {
     "name": "stdout",
     "output_type": "stream",
     "text": [
      "('Title', 'Algorithm: agb_jaxa_demo_metrics_ubuntu ; Version: jaxa_analysis')\n",
      "('Identifier', 'agb_jaxa_demo_metrics_ubuntu:jaxa_analysis')\n",
      "('Input', [('Title', 'granule'), ('Identifier', 'granule'), ('DataType', 'string')])\n",
      "('Input', [('Title', 'clip_upper_bound'), ('Identifier', 'clip_upper_bound'), ('DataType', 'string')])\n",
      "('Output', [])\n"
     ]
    }
   ],
   "source": [
    "response = maap.describeAlgorithm('agb_jaxa_demo_metrics_ubuntu:jaxa_analysis')\n",
    "rt = ET.fromstring(response.text)\n",
    "attrib = [getParams(e) for e in rt[0][0]]\n",
    "for e in attrib:\n",
    "    print(e)"
   ]
  },
  {
   "cell_type": "code",
   "execution_count": null,
   "metadata": {},
   "outputs": [],
   "source": [
    "# maap.registerAlgorithm\n",
    "# maap.deleteAlgorithm"
   ]
  },
  {
   "cell_type": "markdown",
   "metadata": {},
   "source": [
    "## DPS Utilities"
   ]
  },
  {
   "cell_type": "markdown",
   "metadata": {},
   "source": [
    "### Submit Job"
   ]
  },
  {
   "cell_type": "code",
   "execution_count": 3,
   "metadata": {},
   "outputs": [
    {
     "name": "stdout",
     "output_type": "stream",
     "text": [
      "{'status': 'success', 'http_status_code': 200, 'job_id': '1b305fe3-e078-4da4-8036-c71878586bdc'}\n"
     ]
    }
   ],
   "source": [
    "params = {}\n",
    "params['algo_id'] = 'agb_jaxa_demo_metrics_ubuntu'\n",
    "params['version'] = 'jaxa_analysis'\n",
    "params['inputs'] = 'granule,clip_upper_bound'\n",
    "params['granule'] = 'https://cumulus-map-internal.s3.amazonaws.com/file-staging/nasa-map/Global_PALSAR2_PALSAR_Mosiac___1/N25E030_17_MOS_F02DAR.tar.gz'\n",
    "params['clip_upper_bound'] = '-15'\n",
    "params['username'] = 'eyam'\n",
    "response = maap.submitJob(**params)\n",
    "print(response)"
   ]
  },
  {
   "cell_type": "markdown",
   "metadata": {},
   "source": [
    "### List Jobs"
   ]
  },
  {
   "cell_type": "code",
   "execution_count": 28,
   "metadata": {},
   "outputs": [
    {
     "data": {
      "text/plain": [
       "{'code': 200,\n",
       " 'jobs': [\"['7e31829d-cb84-4b0e-9cda-ed0799a972ba', 'job-started', 'job-agb_jaxa_demo_metrics_ubuntu:jaxa_analysis', [{'name': 'granule', 'destination': 'localize', 'value': 'https://cumulus-map-internal.s3.amazonaws.com/file-staging/nasa-map/Global_PALSAR2_PALSAR_Mosiac___1/N25E030_17_MOS_F02DAR.tar.gz'}, {'name': 'clip_upper_bound', 'destination': 'positional', 'value': -15}]]\",\n",
       "  \"['76f655a8-530c-4fbd-9e5a-f3446807e172', 'job-completed', 'job-agb_jaxa_demo_metrics_ubuntu:jaxa_analysis', [{'name': 'granule', 'destination': 'localize', 'value': 'https://cumulus-map-internal.s3.amazonaws.com/file-staging/nasa-map/Global_PALSAR2_PALSAR_Mosiac___1/N25E030_17_MOS_F02DAR.tar.gz'}, {'name': 'clip_upper_bound', 'destination': 'positional', 'value': -15}]]\",\n",
       "  \"['b88b201e-d7cd-497f-be27-c014e7618a1c', 'job-queued', 'job-agb_jaxa_demo_metrics_ubuntu:jaxa_analysis', [{'name': 'granule', 'destination': 'localize', 'value': 'https://cumulus-map-internal.s3.amazonaws.com/file-staging/nasa-map/Global_PALSAR2_PALSAR_Mosiac___1/N25E030_17_MOS_F02DAR.tar.gz'}, {'name': 'clip_upper_bound', 'destination': 'positional', 'value': -15}]]\",\n",
       "  \"['1010f36a-d442-4386-b641-f99d89638583', 'job-completed', 'job-agb_jaxa_demo_metrics_ubuntu:jaxa_analysis', [{'name': 'granule', 'destination': 'localize', 'value': 'https://cumulus-map-internal.s3.amazonaws.com/file-staging/nasa-map/Global_PALSAR2_PALSAR_Mosiac___1/N25E030_17_MOS_F02DAR.tar.gz'}, {'name': 'clip_upper_bound', 'destination': 'positional', 'value': -15}]]\",\n",
       "  \"['c1de41c5-56a0-4806-9999-863dd94626de', 'job-completed', 'job-agb_jaxa_demo_metrics_ubuntu:jaxa_analysis', [{'name': 'granule', 'destination': 'localize', 'value': 'https://cumulus-map-internal.s3.amazonaws.com/file-staging/nasa-map/Global_PALSAR2_PALSAR_Mosiac___1/N25E030_17_MOS_F02DAR.tar.gz'}, {'name': 'clip_upper_bound', 'destination': 'positional', 'value': -15}]]\",\n",
       "  \"['54c97af9-f6cd-40d5-b044-c1c382abf1d0', 'job-completed', 'job-agb_jaxa_demo_metrics_ubuntu:jaxa_analysis', [{'name': 'granule', 'destination': 'localize', 'value': 'https://cumulus-map-internal.s3.amazonaws.com/file-staging/nasa-map/Global_PALSAR2_PALSAR_Mosiac___1/N25E030_17_MOS_F02DAR.tar.gz'}, {'name': 'clip_upper_bound', 'destination': 'positional', 'value': -15}]]\"],\n",
       " 'message': 'success'}"
      ]
     },
     "execution_count": 28,
     "metadata": {},
     "output_type": "execute_result"
    }
   ],
   "source": [
    "response = maap.listJobs('eyam')\n",
    "json_response = json.loads(response.text)\n",
    "json_response"
   ]
  },
  {
   "cell_type": "markdown",
   "metadata": {},
   "source": [
    "### Job Status"
   ]
  },
  {
   "cell_type": "code",
   "execution_count": 42,
   "metadata": {},
   "outputs": [
    {
     "name": "stdout",
     "output_type": "stream",
     "text": [
      "7e31829d-cb84-4b0e-9cda-ed0799a972ba\n",
      "Succeeded\n"
     ]
    }
   ],
   "source": [
    "response = maap.getJobStatus('7e31829d-cb84-4b0e-9cda-ed0799a972ba')\n",
    "if response.status_code == 200:\n",
    "    rt = ET.fromstring(response.text)\n",
    "    job_id = rt[0].text\n",
    "    job_status = rt[1].text\n",
    "    print(job_id)\n",
    "    print(job_status)"
   ]
  },
  {
   "cell_type": "markdown",
   "metadata": {},
   "source": [
    "### Job Result"
   ]
  },
  {
   "cell_type": "code",
   "execution_count": 47,
   "metadata": {},
   "outputs": [],
   "source": [
    "# helpers to parse results XML\n",
    "\n",
    "def getProds(node):\n",
    "\ttag = node.tag[node.tag.index('}')+1:]\n",
    "\tif tag in ['JobID']:\n",
    "\t\treturn (tag,node.text)\n",
    "\telif tag == 'Output':\n",
    "\t\treturn (tag,[loc.text for loc in node])\n",
    "\telse:\n",
    "\t\treturn (tag,[getProds(e) for e in node])\n",
    "\n",
    "def parse_results(rt):\n",
    "    job_id = rt[0].text\n",
    "    product_name = rt[1].attrib['id']\n",
    "    prods = rt[1]\n",
    "    p = getProds(prods)\n",
    "    url_lst = p[1]\n",
    "    return {'job_id':job_id, 'product_name':product_name, 'locations':url_lst}\n"
   ]
  },
  {
   "cell_type": "code",
   "execution_count": 45,
   "metadata": {},
   "outputs": [
    {
     "name": "stdout",
     "output_type": "stream",
     "text": [
      "{'job_id': '7e31829d-cb84-4b0e-9cda-ed0799a972ba', 'product_name': 'output-2020-08-27T18:55:08.526237', 'locations': ['http://maap-dev-dataset.s3-website.amazonaws.com/null/dps_output/agb_jaxa_demo_metrics_ubuntu/jaxa_analysis/2020/08/27/18/55/08/526237', 's3://s3.amazonaws.com:80/maap-dev-dataset/null/dps_output/agb_jaxa_demo_metrics_ubuntu/jaxa_analysis/2020/08/27/18/55/08/526237', 'https://s3.console.aws.amazon.com/s3/buckets/maap-dev-dataset/null/dps_output/agb_jaxa_demo_metrics_ubuntu/jaxa_analysis/2020/08/27/18/55/08/526237/?region=us-east-1&tab=overview']}\n"
     ]
    }
   ],
   "source": [
    "response = maap.getJobResult('7e31829d-cb84-4b0e-9cda-ed0799a972ba')\n",
    "if response.status_code == 200:\n",
    "    rt = ET.fromstring(response.text)\n",
    "    results = parse_results(rt)\n",
    "    print(results)\n",
    "\n",
    "else:\n",
    "    print(response.text)"
   ]
  },
  {
   "cell_type": "markdown",
   "metadata": {},
   "source": [
    "### Job Metrics"
   ]
  },
  {
   "cell_type": "code",
   "execution_count": 51,
   "metadata": {},
   "outputs": [],
   "source": [
    "def parse_metrics(node):\n",
    "    metrics = {}\n",
    "    for n in node:\n",
    "        metrics[n.tag] = n.text\n",
    "        \n",
    "    return metrics"
   ]
  },
  {
   "cell_type": "code",
   "execution_count": 49,
   "metadata": {},
   "outputs": [],
   "source": [
    "response = maap.getJobMetrics('7e31829d-cb84-4b0e-9cda-ed0799a972ba')"
   ]
  },
  {
   "cell_type": "code",
   "execution_count": 52,
   "metadata": {},
   "outputs": [
    {
     "data": {
      "text/plain": [
       "{'machine_type': 't3a.large',\n",
       " 'architecture': 'x86_64',\n",
       " 'machine_memory_size': '7.56 GB',\n",
       " 'directory_size': '8493764608',\n",
       " 'operating_system': 'CentOS',\n",
       " 'job_start_time': '2020-08-27T18:49:53.050557Z',\n",
       " 'job_end_time': '2020-08-27T18:55:11.193153Z',\n",
       " 'job_duration_seconds': '318.142596',\n",
       " 'cpu_usage': '288082375909',\n",
       " 'cache_usage': '3982348288',\n",
       " 'mem_usage': '3983478784',\n",
       " 'max_mem_usage': '6185947136',\n",
       " 'swap_usage': '0',\n",
       " 'read_io_stats': '4096',\n",
       " 'write_io_stats': '14848',\n",
       " 'sync_io_stats': '14848',\n",
       " 'async_io_stats': '4096',\n",
       " 'total_io_stats': '18944'}"
      ]
     },
     "execution_count": 52,
     "metadata": {},
     "output_type": "execute_result"
    }
   ],
   "source": [
    "rt = ET.fromstring(response.text)\n",
    "parse_metrics(rt)"
   ]
  },
  {
   "cell_type": "markdown",
   "metadata": {},
   "source": [
    "### Dismiss Job"
   ]
  },
  {
   "cell_type": "code",
   "execution_count": null,
   "metadata": {},
   "outputs": [],
   "source": [
    "response = maap.dismissJob('b88b201e-d7cd-497f-be27-c014e7618a1c')"
   ]
  },
  {
   "cell_type": "code",
   "execution_count": 41,
   "metadata": {},
   "outputs": [
    {
     "data": {
      "text/plain": [
       "'<!DOCTYPE HTML PUBLIC \"-//IETF//DTD HTML 2.0//EN\">\\n<html><head>\\n<title>504 Gateway Timeout</title>\\n</head><body>\\n<h1>Gateway Timeout</h1>\\n<p>The gateway did not receive a timely response\\nfrom the upstream server or application.</p>\\n</body></html>\\n'"
      ]
     },
     "execution_count": 41,
     "metadata": {},
     "output_type": "execute_result"
    }
   ],
   "source": [
    "if response.text == 200:\n",
    "    rt = ET.fromstring(response.text)\n",
    "    job_id = rt[0].text\n",
    "    job_status = rt[1].text\n",
    "    print(job_id)\n",
    "    print(job_status)\n",
    "else:\n",
    "    print(response.text)"
   ]
  },
  {
   "cell_type": "markdown",
   "metadata": {},
   "source": [
    "### Delete Job"
   ]
  },
  {
   "cell_type": "code",
   "execution_count": 55,
   "metadata": {},
   "outputs": [],
   "source": [
    "response = maap.deleteJob('b88b201e-d7cd-497f-be27-c014e7618a1c')"
   ]
  },
  {
   "cell_type": "code",
   "execution_count": 56,
   "metadata": {},
   "outputs": [
    {
     "name": "stdout",
     "output_type": "stream",
     "text": [
      "<!DOCTYPE HTML PUBLIC \"-//IETF//DTD HTML 2.0//EN\">\n",
      "<html><head>\n",
      "<title>504 Gateway Timeout</title>\n",
      "</head><body>\n",
      "<h1>Gateway Timeout</h1>\n",
      "<p>The gateway did not receive a timely response\n",
      "from the upstream server or application.</p>\n",
      "</body></html>\n",
      "\n"
     ]
    }
   ],
   "source": [
    "if response.status_code == 200:\n",
    "    rt = ET.fromstring(response.text)\n",
    "    job_id = rt[0].text\n",
    "    job_status = rt[1].text\n",
    "    print(job_id)\n",
    "    print(job_status)\n",
    "else:\n",
    "    print(response.text)"
   ]
  },
  {
   "cell_type": "markdown",
   "metadata": {},
   "source": [
    "## Other Utilities"
   ]
  },
  {
   "cell_type": "code",
   "execution_count": null,
   "metadata": {},
   "outputs": [],
   "source": [
    "# maap.uploadFiles\n",
    "# maap.executeQuery"
   ]
  }
 ],
 "metadata": {
  "kernelspec": {
   "display_name": "Python 3",
   "language": "python",
   "name": "python3"
  },
  "language_info": {
   "codemirror_mode": {
    "name": "ipython",
    "version": 3
   },
   "file_extension": ".py",
   "mimetype": "text/x-python",
   "name": "python",
   "nbconvert_exporter": "python",
   "pygments_lexer": "ipython3",
   "version": "3.7.4"
  }
 },
 "nbformat": 4,
 "nbformat_minor": 4
}
